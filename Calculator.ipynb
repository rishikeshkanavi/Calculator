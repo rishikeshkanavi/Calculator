{
 "cells": [
  {
   "cell_type": "code",
   "execution_count": 52,
   "id": "8e95fc26-7c4f-4cc4-9daa-8ab013ce0e66",
   "metadata": {},
   "outputs": [
    {
     "name": "stdout",
     "output_type": "stream",
     "text": [
      "****CALCULATOR****\n"
     ]
    },
    {
     "name": "stdout",
     "output_type": "stream",
     "text": [
      "Enter 1st number:  28\n",
      "Enter 2nd number:  4\n",
      "Enter the operation (+, -, *, /, **, %):  +\n"
     ]
    },
    {
     "name": "stdout",
     "output_type": "stream",
     "text": [
      "The result of  28 and  4 is:  32\n"
     ]
    },
    {
     "name": "stdout",
     "output_type": "stream",
     "text": [
      "Enter if you want to continue (yes or no):  yes\n",
      "Enter 1st number:  4\n",
      "Enter 2nd number:  2\n",
      "Enter the operation (+, -, *, /, **, %):  -\n"
     ]
    },
    {
     "name": "stdout",
     "output_type": "stream",
     "text": [
      "The result of  4 and  2 is:  2\n"
     ]
    },
    {
     "name": "stdout",
     "output_type": "stream",
     "text": [
      "Enter if you want to continue (yes or no):  yes\n",
      "Enter 1st number:  23\n",
      "Enter 2nd number:  4\n",
      "Enter the operation (+, -, *, /, **, %):  *\n"
     ]
    },
    {
     "name": "stdout",
     "output_type": "stream",
     "text": [
      "The result of  23 and  4 is:  92\n"
     ]
    },
    {
     "name": "stdout",
     "output_type": "stream",
     "text": [
      "Enter if you want to continue (yes or no):  yes\n",
      "Enter 1st number:  24\n",
      "Enter 2nd number:  2\n",
      "Enter the operation (+, -, *, /, **, %):  /\n"
     ]
    },
    {
     "name": "stdout",
     "output_type": "stream",
     "text": [
      "The result of  24 and  2 is:  12.0\n"
     ]
    },
    {
     "name": "stdout",
     "output_type": "stream",
     "text": [
      "Enter if you want to continue (yes or no):  yes\n",
      "Enter 1st number:  2\n",
      "Enter 2nd number:  8\n",
      "Enter the operation (+, -, *, /, **, %):  **\n"
     ]
    },
    {
     "name": "stdout",
     "output_type": "stream",
     "text": [
      "The result of  2 and  8 is:  256\n"
     ]
    },
    {
     "name": "stdout",
     "output_type": "stream",
     "text": [
      "Enter if you want to continue (yes or no):  yes\n",
      "Enter 1st number:  4\n",
      "Enter 2nd number:  2\n",
      "Enter the operation (+, -, *, /, **, %):  %\n"
     ]
    },
    {
     "name": "stdout",
     "output_type": "stream",
     "text": [
      "The result of  4 and  2 is:  0\n"
     ]
    },
    {
     "name": "stdout",
     "output_type": "stream",
     "text": [
      "Enter if you want to continue (yes or no):  no\n"
     ]
    },
    {
     "name": "stdout",
     "output_type": "stream",
     "text": [
      "Byee Byeeee\n"
     ]
    }
   ],
   "source": [
    "print(\"****CALCULATOR****\")\n",
    "def myAdd(a, b):\n",
    "    res = a+b\n",
    "    return res\n",
    "def mySub(a, b):\n",
    "    res = a-b\n",
    "    return res\n",
    "def myMul(a, b):\n",
    "    res = a*b\n",
    "    return res\n",
    "def myDiv(a, b):\n",
    "    res = a/b\n",
    "    return res\n",
    "def myPow(a, b):\n",
    "    res = a**b\n",
    "    return res\n",
    "def myRem(a, b):\n",
    "   res = a%b\n",
    "   return res\n",
    "while 1:\n",
    "    \n",
    "    a = int(input(\"Enter 1st number: \"))\n",
    "    b = int(input(\"Enter 2nd number: \"))\n",
    "    opt = input(\"Enter the operation (+, -, *, /, **, %): \")\n",
    "    if opt == '+':\n",
    "        print(\"The result of \",a, \"and \", b, \"is: \", myAdd(a, b))\n",
    "    elif opt == '-':\n",
    "        print(\"The result of \",a, \"and \", b, \"is: \", mySub(a, b))\n",
    "    elif opt == '*':\n",
    "        print(\"The result of \",a, \"and \", b, \"is: \", myMul(a, b))\n",
    "    elif opt == '/':\n",
    "        print(\"The result of \",a, \"and \", b, \"is: \", myDiv(a, b))\n",
    "    elif opt == '**':\n",
    "        print(\"The result of \",a, \"and \", b, \"is: \", myPow(a, b))\n",
    "    elif opt == '%':\n",
    "        print(\"The result of \",a, \"and \", b, \"is: \", myRem(a, b))\n",
    "    c = input(\"Enter if you want to continue (yes or no): \")\n",
    "    if c == 'yes':\n",
    "        pass\n",
    "    elif c == 'no':\n",
    "        break\n",
    "    else:\n",
    "        print(\"Entered wrong input\")\n",
    "        break\n",
    "print(\"Byee Byeeee\")"
   ]
  },
  {
   "cell_type": "code",
   "execution_count": null,
   "id": "b5e46237-9110-49b6-b7b3-aa5ff7e8ea77",
   "metadata": {},
   "outputs": [],
   "source": []
  }
 ],
 "metadata": {
  "kernelspec": {
   "display_name": "Python 3 (ipykernel)",
   "language": "python",
   "name": "python3"
  },
  "language_info": {
   "codemirror_mode": {
    "name": "ipython",
    "version": 3
   },
   "file_extension": ".py",
   "mimetype": "text/x-python",
   "name": "python",
   "nbconvert_exporter": "python",
   "pygments_lexer": "ipython3",
   "version": "3.11.7"
  }
 },
 "nbformat": 4,
 "nbformat_minor": 5
}
